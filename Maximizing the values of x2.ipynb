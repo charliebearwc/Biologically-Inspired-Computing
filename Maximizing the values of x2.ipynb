{
 "cells": [
  {
   "cell_type": "code",
   "execution_count": 1,
   "metadata": {
    "collapsed": true
   },
   "outputs": [],
   "source": [
    "import random\n",
    "import numpy as np\n",
    "import math"
   ]
  },
  {
   "cell_type": "code",
   "execution_count": 235,
   "metadata": {
    "collapsed": true
   },
   "outputs": [],
   "source": [
    "def dex_to_bin(d):\n",
    "    return bin(d).format(1)[2:].zfill(number_of_binary_positions)\n",
    "\n",
    "def bin_to_dex(b):\n",
    "    return int(b, 2)"
   ]
  },
  {
   "cell_type": "code",
   "execution_count": 234,
   "metadata": {},
   "outputs": [
    {
     "name": "stdout",
     "output_type": "stream",
     "text": [
      "Initial population: [13, 24, 8, 19]\n",
      "Corresponding genotypes: ['01101', '11000', '01000', '10011']\n"
     ]
    }
   ],
   "source": [
    "number_of_genotypes = 4\n",
    "number_of_binary_positions = 5 #integers are in range 0-31, where max is 32 and in binary it takes 5 bits: 11111\n",
    "phenotypes = [13, 24, 8, 19]\n",
    "#phenotypes = random.sample(range(0, 31), number_of_genotypes)\n",
    "\n",
    "print \"Initial population:\", phenotypes\n",
    "\n",
    "genotypes = []\n",
    "\n",
    "for ph in phenotypes:\n",
    "   b = dex_to_bin(ph) \n",
    "   genotypes.append(b)\n",
    "print \"Corresponding genotypes:\", genotypes\n"
   ]
  },
  {
   "cell_type": "markdown",
   "metadata": {},
   "source": [
    "<span style=\"color:green\">Fitness</span>\n",
    "<br>\n",
    "Calculate fitness values with fitness function <b>f(x) = x<sup>2</sup></b>"
   ]
  },
  {
   "cell_type": "code",
   "execution_count": 3,
   "metadata": {},
   "outputs": [
    {
     "name": "stdout",
     "output_type": "stream",
     "text": [
      "Fitness: [169, 576, 64, 361]\n",
      "Sum: 1170\n",
      "Avg: 293\n",
      "Max: 576\n"
     ]
    }
   ],
   "source": [
    "def fitness_function(x):\n",
    "    return x**2\n",
    "\n",
    "def sum_avg_max(lov):\n",
    "    s = sum(lov)\n",
    "    a = round(np.mean(lov), 2)\n",
    "    m = max(lov)\n",
    "    \n",
    "    return s, a, m\n",
    "\n",
    "fitness_values = map(lambda x: fitness_function(x), phenotypes)\n",
    "print \"Fitness:\", fitness_values\n",
    "\n",
    "fitness_sum, fitness_avg, fitness_max = sum_avg_max(fitness_values)\n",
    "\n",
    "print \"Sum:\", fitness_sum\n",
    "print \"Avg:\", int(math.ceil(fitness_avg))\n",
    "print \"Max:\", fitness_max\n"
   ]
  },
  {
   "cell_type": "markdown",
   "metadata": {},
   "source": [
    "<span style=\"color:green\">Probability</span>"
   ]
  },
  {
   "cell_type": "code",
   "execution_count": 14,
   "metadata": {},
   "outputs": [
    {
     "name": "stdout",
     "output_type": "stream",
     "text": [
      "Probability: [0.144, 0.492, 0.055, 0.309]\n",
      "Sum: 1.0\n",
      "Avg: 0.25\n",
      "Max: 0.492\n"
     ]
    }
   ],
   "source": [
    "def probability(lov, sum_val):\n",
    "    return map(lambda x: round(x/float(sum_val), 3), lov)\n",
    "\n",
    "probability_list = probability(fitness_values, fitness_sum)\n",
    "print \"Probability:\", probability_list\n",
    "\n",
    "prob_sum, prob_avg, prob_max = sum_avg_max(probability_list)\n",
    "\n",
    "print \"Sum:\", prob_sum\n",
    "print \"Avg:\", prob_avg\n",
    "print \"Max:\", prob_max"
   ]
  },
  {
   "cell_type": "markdown",
   "metadata": {},
   "source": [
    "<span style=\"color:green\">Expected count</span>"
   ]
  },
  {
   "cell_type": "code",
   "execution_count": 7,
   "metadata": {},
   "outputs": [
    {
     "name": "stdout",
     "output_type": "stream",
     "text": [
      "Expected count: [0.58, 1.97, 0.22, 1.23]\n",
      "Sum: 4.0\n",
      "Avg: 1.0\n",
      "Max: 1.97\n"
     ]
    }
   ],
   "source": [
    "def expected_count(lov, fitness_avg):\n",
    "    return map(lambda x: round(x/float(fitness_avg), 2), lov)\n",
    "\n",
    "expected_list = expected_count(fitness_values, fitness_avg)\n",
    "print \"Expected count:\", expected_list\n",
    "\n",
    "exp_sum, exp_avg, exp_max = sum_avg_max(expected_list)\n",
    "\n",
    "print \"Sum:\", exp_sum\n",
    "print \"Avg:\", exp_avg\n",
    "print \"Max:\", exp_max"
   ]
  },
  {
   "cell_type": "markdown",
   "metadata": {},
   "source": [
    "<span style=\"color:green\">Mating pool</span>"
   ]
  },
  {
   "cell_type": "code",
   "execution_count": 129,
   "metadata": {},
   "outputs": [
    {
     "name": "stdout",
     "output_type": "stream",
     "text": [
      "Phenotype mating pool: [13, 24, 24, 19]\n",
      "Genotype mating pool: ['01101', '11000', '11000', '10011']\n"
     ]
    }
   ],
   "source": [
    "#generate genotypes using numerical distribution from probability_list\n",
    "def random_genotype():\n",
    "    return np.random.choice(np.array(phenotypes), p=probability_list)\n",
    "\n",
    "phenotype_mating_pool = []\n",
    "genotype_mating_pool = []\n",
    "\n",
    "\n",
    "for x in xrange(number_of_genotypes):\n",
    "    p = random_genotype()\n",
    "    g = dex_to_bin(p)\n",
    "    phenotype_mating_pool.append(p)\n",
    "    genotype_mating_pool.append(g)\n",
    "\n",
    "phenotype_mating_pool = [13, 24, 24, 19]\n",
    "genotype_mating_pool = ['01101', '11000', '11000', '10011']\n",
    "\n",
    "print \"Phenotype mating pool:\", phenotype_mating_pool\n",
    "print \"Genotype mating pool:\", genotype_mating_pool\n"
   ]
  },
  {
   "cell_type": "markdown",
   "metadata": {},
   "source": [
    "Convert bit-strings to a list of genes for easier manipulation"
   ]
  },
  {
   "cell_type": "code",
   "execution_count": 173,
   "metadata": {},
   "outputs": [
    {
     "name": "stdout",
     "output_type": "stream",
     "text": [
      "List of pairs with corresponding genes:\n",
      "Pair 1 ['0', '1', '1', '0', '1']\n",
      "Pair 1 ['1', '1', '0', '0', '0']\n",
      "Pair 2 ['1', '1', '0', '0', '0']\n",
      "Pair 2 ['1', '0', '0', '1', '1']\n",
      "Number of pairs: 2\n"
     ]
    }
   ],
   "source": [
    "list_of_genes = []\n",
    "pair_numbering = []\n",
    "#uses for calculating pair numbers\n",
    "number_of_pairs = 0.5\n",
    "\n",
    "print \"List of pairs with corresponding genes:\"\n",
    "for g in genotype_mating_pool:\n",
    "    number_of_pairs += .5\n",
    "    pair_number = int(number_of_pairs)\n",
    "    pair_numbering.append(pair_number)\n",
    "    print \"Pair\", pair_number, list(g)\n",
    "    list_of_genes.append(list(g))\n",
    "\n",
    "number_of_pairs = int(number_of_pairs)    \n",
    "\n",
    "print \"Number of pairs:\", number_of_pairs"
   ]
  },
  {
   "cell_type": "markdown",
   "metadata": {},
   "source": [
    "<span style=\"color:green\">Crossover point</span>"
   ]
  },
  {
   "cell_type": "code",
   "execution_count": 142,
   "metadata": {},
   "outputs": [
    {
     "name": "stdout",
     "output_type": "stream",
     "text": [
      "[4, 4, 2, 2]\n"
     ]
    }
   ],
   "source": [
    "#crossover_point = random.randrange(1, number_of_binary_positions-1)\n",
    "crossover_point = []\n",
    "#create a list with crossover point, for both parents in each pair\n",
    "for x in xrange(number_of_pairs):\n",
    "    cp = random.randrange(1, number_of_binary_positions-1)\n",
    "    crossover_point.append(cp)\n",
    "    crossover_point.append(cp)\n",
    "\n",
    "crossover_point = [4,4,2,2]\n",
    "print crossover_point"
   ]
  },
  {
   "cell_type": "markdown",
   "metadata": {},
   "source": [
    "<span style=\"color:green\">Pairs in mating pool with crossover point</span>"
   ]
  },
  {
   "cell_type": "code",
   "execution_count": 174,
   "metadata": {},
   "outputs": [
    {
     "name": "stdout",
     "output_type": "stream",
     "text": [
      "Pairs with crossover point:\n",
      "Pair 1 \b: ['0', '1', '1', '0', '1'] \b, crossover point: 4\n",
      "Pair 1 \b: ['1', '1', '0', '0', '0'] \b, crossover point: 4\n",
      "Pair 2 \b: ['1', '1', '0', '0', '0'] \b, crossover point: 2\n",
      "Pair 2 \b: ['1', '0', '0', '1', '1'] \b, crossover point: 2\n"
     ]
    }
   ],
   "source": [
    "print \"Pairs with crossover point:\"\n",
    "for line in zip(pair_numbering, list_of_genes, crossover_point):\n",
    "    print \"Pair\", line[0], \"\\b:\", line[1], \"\\b, crossover point:\", line[2]"
   ]
  },
  {
   "cell_type": "markdown",
   "metadata": {},
   "source": [
    "<span style=\"color:green\">Offsprings after one-point crossover</span>"
   ]
  },
  {
   "cell_type": "code",
   "execution_count": 246,
   "metadata": {},
   "outputs": [
    {
     "name": "stdout",
     "output_type": "stream",
     "text": [
      "Head genes:\n",
      "['0', '1', '1', '0']\n",
      "['1', '1', '0', '0']\n",
      "['1', '1']\n",
      "['1', '0']\n",
      "Tail genes:\n",
      "['1']\n",
      "['0']\n",
      "['0', '0', '0']\n",
      "['0', '1', '1']\n",
      "\n",
      "Genotypes after crossover:\n",
      "['01100', '11001', '11011', '10000']\n",
      "\n",
      "Phenotypes after crossover:\n",
      "[12, 25, 27, 16]\n"
     ]
    }
   ],
   "source": [
    "head_genes = []\n",
    "tail_genes = []\n",
    "offspring_list = [] #list of list of genes\n",
    "parent_1 = True\n",
    "offspring_genotypes = [] #list of genotypes\n",
    "offspring_phenotypes = [] #list of phenotypes\n",
    "\n",
    "print \"Head genes:\"\n",
    "for i in xrange(len(list_of_genes)):\n",
    "    hg = list_of_genes[i][:crossover_point[i]]\n",
    "    print hg\n",
    "    head_genes.append(hg)\n",
    "\n",
    "print \"Tail genes:\"    \n",
    "for i in xrange(len(list_of_genes)):\n",
    "    tg = list_of_genes[i][crossover_point[i]:]\n",
    "    print tg\n",
    "    tail_genes.append(tg)\n",
    "\n",
    "#switch tails of parents in same pair and concatenate genes into offsprings\n",
    "for i in xrange(len(head_genes)):\n",
    "    if parent_1:\n",
    "        offspring_list.append(head_genes[i] + tail_genes[i+1])\n",
    "        parent_1 = False\n",
    "    else:\n",
    "        offspring_list.append(head_genes[i] + tail_genes[i-1])\n",
    "        parent_1 = True\n",
    "\n",
    "\n",
    "for os in offspring_list:\n",
    "    offspring_genotypes.append(''.join(os))\n",
    "    \n",
    "print \"\\nGenotypes after crossover:\\n\", offspring_genotypes\n",
    "\n",
    "#decoding to phenotypes\n",
    "for og in offspring_genotypes:\n",
    "    offspring_phenotypes.append(bin_to_dex(og))\n",
    "    \n",
    "print \"\\nPhenotypes after crossover:\\n\", offspring_phenotypes"
   ]
  }
 ],
 "metadata": {
  "kernelspec": {
   "display_name": "Python 2",
   "language": "python",
   "name": "python2"
  },
  "language_info": {
   "codemirror_mode": {
    "name": "ipython",
    "version": 2
   },
   "file_extension": ".py",
   "mimetype": "text/x-python",
   "name": "python",
   "nbconvert_exporter": "python",
   "pygments_lexer": "ipython2",
   "version": "2.7.6"
  }
 },
 "nbformat": 4,
 "nbformat_minor": 2
}
