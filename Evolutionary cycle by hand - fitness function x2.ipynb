{
 "cells": [
  {
   "cell_type": "markdown",
   "metadata": {},
   "source": [
    "<h2>Book Introduction to Evolutionary Computing, Second Edition</h2>\n",
    "\n",
    "Example from chapter <b>3.3 An Evolutionary Cycle by Hand</b> - maximising the values of x<sup>2</sup> for integers in the range 0-31.\n",
    "<br>\n",
    "This notebook takes you step by step from\n",
    "\n",
    "<ul>\n",
    "  <li>initializing population (phenotypes)</li>\n",
    "  <li>mapping to genotypes</li>\n",
    "  <li>calculating fitness values</li>\n",
    "  <li>calculating probability</li>\n",
    "  <li>calculating expected count</li>\n",
    "  <li>one-point crossover</li>\n",
    "  <li>mutation</li>\n",
    "  <li>calculating fitness values for offsprings</li>\n",
    "  <li>comparison between initial population and offsprings</li>\n",
    "</ul>  \n"
   ]
  },
  {
   "cell_type": "code",
   "execution_count": 1,
   "metadata": {
    "collapsed": true
   },
   "outputs": [],
   "source": [
    "%matplotlib inline\n",
    "import random\n",
    "import numpy as np\n",
    "import math\n",
    "\n",
    "#import matplotlib\n",
    "#matplotlib.use('Agg')\n",
    "import matplotlib.pyplot as plt"
   ]
  },
  {
   "cell_type": "markdown",
   "metadata": {},
   "source": [
    "If you want to use phenotypes as in the book use constants. If you would like to generate your own initial population, comment out the list with constants and uncomment the list with randomly generated values."
   ]
  },
  {
   "cell_type": "code",
   "execution_count": 2,
   "metadata": {
    "collapsed": true
   },
   "outputs": [],
   "source": [
    "number_of_genotypes = 4\n",
    "number_of_genes = 5 #integers are in range 0-31, where max is 32 and in binary it takes 5 bits: 11111\n",
    "phenotypes = [13, 24, 8, 19]\n",
    "#phenotypes = random.sample(range(0, 31), number_of_genotypes)"
   ]
  },
  {
   "cell_type": "code",
   "execution_count": 3,
   "metadata": {
    "collapsed": true
   },
   "outputs": [],
   "source": [
    "def dex_to_bin(d):\n",
    "    return bin(d).format(1)[2:].zfill(number_of_genes)\n",
    "\n",
    "def bin_to_dex(b):\n",
    "    return int(b, 2)"
   ]
  },
  {
   "cell_type": "code",
   "execution_count": 6,
   "metadata": {},
   "outputs": [
    {
     "name": "stdout",
     "output_type": "stream",
     "text": [
      "Initial population: [13, 24, 8, 19]\n",
      "Corresponding genotypes: ['01101', '11000', '01000', '10011']\n"
     ]
    }
   ],
   "source": [
    "print(\"Initial population:\", phenotypes)\n",
    "\n",
    "genotypes = []\n",
    "\n",
    "for ph in phenotypes:\n",
    "   b = dex_to_bin(ph) \n",
    "   genotypes.append(b)\n",
    "print(\"Corresponding genotypes:\", genotypes)"
   ]
  },
  {
   "cell_type": "markdown",
   "metadata": {},
   "source": [
    "<span style=\"color:green\">Fitness</span>\n",
    "<br>\n",
    "Calculate fitness values with fitness function <b>f(x) = x<sup>2</sup></b> and print out sum, average and max."
   ]
  },
  {
   "cell_type": "code",
   "execution_count": 10,
   "metadata": {},
   "outputs": [
    {
     "name": "stdout",
     "output_type": "stream",
     "text": [
      "Fitness: [169, 576, 64, 361]\n",
      "Sum: 1170\n",
      "Avg: 293\n",
      "Max: 576\n"
     ]
    }
   ],
   "source": [
    "def sum_avg_max(lov):\n",
    "    s = sum(lov)\n",
    "    a = round(np.mean(lov), 2)\n",
    "    m = max(lov)\n",
    "    return s, a, m\n",
    "\n",
    "def fitness(phenotypes):\n",
    "    fitness_values = list(map(lambda x: x**2, phenotypes))\n",
    "\n",
    "    print(\"Fitness:\", fitness_values)\n",
    "    \n",
    "    return fitness_values\n",
    "\n",
    "init_pop_fitness_values = fitness(phenotypes)\n",
    "\n",
    "init_pop_fitness_sum, init_pop_fitness_avg, init_pop_fitness_max = sum_avg_max(init_pop_fitness_values)\n",
    "print(\"Sum:\", init_pop_fitness_sum)\n",
    "print(\"Avg:\", int(math.ceil(init_pop_fitness_avg)))\n",
    "print(\"Max:\", init_pop_fitness_max)"
   ]
  },
  {
   "cell_type": "markdown",
   "metadata": {},
   "source": [
    "<span style=\"color:green\">Probability</span>"
   ]
  },
  {
   "cell_type": "code",
   "execution_count": 13,
   "metadata": {},
   "outputs": [
    {
     "name": "stdout",
     "output_type": "stream",
     "text": [
      "Probability: [0.144, 0.492, 0.055, 0.309]\n",
      "Sum: 1.0\n",
      "Avg: 0.25\n",
      "Max: 0.492\n"
     ]
    }
   ],
   "source": [
    "def probability(lov, sum_val):\n",
    "    return list(map(lambda x: round(x/float(sum_val), 3), lov))\n",
    "\n",
    "probability_list = probability(init_pop_fitness_values, init_pop_fitness_sum)\n",
    "print(\"Probability:\", probability_list)\n",
    "\n",
    "init_pop_prob_sum, init_pop_prob_avg, init_pop_prob_max = sum_avg_max(probability_list)\n",
    "\n",
    "print (\"Sum:\", init_pop_prob_sum)\n",
    "print(\"Avg:\", init_pop_prob_avg)\n",
    "print(\"Max:\", init_pop_prob_max)"
   ]
  },
  {
   "cell_type": "markdown",
   "metadata": {},
   "source": [
    "<span style=\"color:green\">Expected count</span>"
   ]
  },
  {
   "cell_type": "code",
   "execution_count": 17,
   "metadata": {},
   "outputs": [
    {
     "name": "stdout",
     "output_type": "stream",
     "text": [
      "Expected count: [0.58, 1.97, 0.22, 1.23]\n",
      "Sum: 4.0\n",
      "Avg: 1.0\n",
      "Max: 1.97\n"
     ]
    }
   ],
   "source": [
    "def expected_count(lov, fitness_avg):\n",
    "    return list(map(lambda x: round(x/float(fitness_avg), 2), lov))\n",
    "\n",
    "expected_list = expected_count(init_pop_fitness_values, init_pop_fitness_avg)\n",
    "print(\"Expected count:\", expected_list)\n",
    "\n",
    "init_pop_exp_sum, init_pop_exp_avg, init_pop_exp_max = sum_avg_max(expected_list)\n",
    "\n",
    "print(\"Sum:\", init_pop_exp_sum)\n",
    "print(\"Avg:\", init_pop_exp_avg)\n",
    "print(\"Max:\", init_pop_exp_max)"
   ]
  },
  {
   "cell_type": "markdown",
   "metadata": {},
   "source": [
    "<span style=\"color:green\">Mating pool</span>\n",
    "<br>\n",
    "Mating pool is populated from initial population based on probability each phenotype has to be selected as parent."
   ]
  },
  {
   "cell_type": "code",
   "execution_count": 23,
   "metadata": {},
   "outputs": [
    {
     "name": "stdout",
     "output_type": "stream",
     "text": [
      "Phenotype mating pool: [13, 24, 24, 19]\n",
      "Genotype mating pool: ['1101', '11000', '11000', '10011']\n"
     ]
    }
   ],
   "source": [
    "#generate genotypes using numerical distribution from probability_list\n",
    "def random_genotype():\n",
    "    return np.random.choice(np.array(phenotypes), p=probability_list)\n",
    "\n",
    "phenotype_mating_pool = []\n",
    "genotype_mating_pool = []\n",
    "\n",
    "for x in range(number_of_genotypes):\n",
    "    p = random_genotype()\n",
    "    g = dex_to_bin(p)\n",
    "    phenotype_mating_pool.append(p)\n",
    "    genotype_mating_pool.append(g)\n",
    "\n",
    "phenotype_mating_pool = [13, 24, 24, 19]\n",
    "genotype_mating_pool = [str(bin(i))[2:] for i in phenotype_mating_pool]\n",
    "\n",
    "print(\"Phenotype mating pool:\", phenotype_mating_pool)\n",
    "print(\"Genotype mating pool:\", genotype_mating_pool)"
   ]
  },
  {
   "cell_type": "markdown",
   "metadata": {},
   "source": [
    "Convert bit-strings to a list of genes for easier manipulation"
   ]
  },
  {
   "cell_type": "code",
   "execution_count": 24,
   "metadata": {},
   "outputs": [
    {
     "name": "stdout",
     "output_type": "stream",
     "text": [
      "List of pairs with corresponding genes:\n",
      "Pair 1 ['1', '1', '0', '1']\n",
      "Pair 1 ['1', '1', '0', '0', '0']\n",
      "Pair 2 ['1', '1', '0', '0', '0']\n",
      "Pair 2 ['1', '0', '0', '1', '1']\n",
      "Number of pairs: 2\n"
     ]
    }
   ],
   "source": [
    "list_of_genes = []\n",
    "pair_numbering = []\n",
    "#uses for calculating pair numbers\n",
    "number_of_pairs = 0.5\n",
    "\n",
    "print(\"List of pairs with corresponding genes:\")\n",
    "for g in genotype_mating_pool:\n",
    "    number_of_pairs += .5\n",
    "    pair_number = int(number_of_pairs)\n",
    "    pair_numbering.append(pair_number)\n",
    "    print(\"Pair\", pair_number, list(g))\n",
    "    list_of_genes.append(list(g))\n",
    "\n",
    "number_of_pairs = int(number_of_pairs)    \n",
    "\n",
    "print(\"Number of pairs:\", number_of_pairs)"
   ]
  },
  {
   "cell_type": "markdown",
   "metadata": {},
   "source": [
    "<span style=\"color:green\">Crossover point</span>"
   ]
  },
  {
   "cell_type": "code",
   "execution_count": 26,
   "metadata": {},
   "outputs": [
    {
     "name": "stdout",
     "output_type": "stream",
     "text": [
      "[4, 4, 2, 2]\n"
     ]
    }
   ],
   "source": [
    "#crossover_point = random.randrange(1, number_of_binary_positions-1)\n",
    "crossover_point = []\n",
    "#create a list with crossover point, for both parents in each pair\n",
    "for x in range(number_of_pairs):\n",
    "    cp = random.randrange(1, number_of_genes-1)\n",
    "    crossover_point.append(cp)\n",
    "    crossover_point.append(cp)\n",
    "\n",
    "crossover_point = [4,4,2,2]\n",
    "print(crossover_point)"
   ]
  },
  {
   "cell_type": "markdown",
   "metadata": {},
   "source": [
    "<span style=\"color:green\">Pairs in mating pool with crossover point</span>"
   ]
  },
  {
   "cell_type": "code",
   "execution_count": 27,
   "metadata": {},
   "outputs": [
    {
     "name": "stdout",
     "output_type": "stream",
     "text": [
      "Pairs with crossover point:\n",
      "Pair 1 \b: ['1', '1', '0', '1'] \b, crossover point: 4\n",
      "Pair 1 \b: ['1', '1', '0', '0', '0'] \b, crossover point: 4\n",
      "Pair 2 \b: ['1', '1', '0', '0', '0'] \b, crossover point: 2\n",
      "Pair 2 \b: ['1', '0', '0', '1', '1'] \b, crossover point: 2\n"
     ]
    }
   ],
   "source": [
    "print(\"Pairs with crossover point:\")\n",
    "for line in zip(pair_numbering, list_of_genes, crossover_point):\n",
    "    print(\"Pair\", line[0], \"\\b:\", line[1], \"\\b, crossover point:\", line[2])"
   ]
  },
  {
   "cell_type": "markdown",
   "metadata": {},
   "source": [
    "<span style=\"color:green\">Offsprings after one-point crossover</span>"
   ]
  },
  {
   "cell_type": "code",
   "execution_count": 28,
   "metadata": {},
   "outputs": [
    {
     "name": "stdout",
     "output_type": "stream",
     "text": [
      "Head genes:\n",
      "['1', '1', '0', '1']\n",
      "['1', '1', '0', '0']\n",
      "['1', '1']\n",
      "['1', '0']\n",
      "Tail genes:\n",
      "[]\n",
      "['0']\n",
      "['0', '0', '0']\n",
      "['0', '1', '1']\n",
      "\n",
      "Genotypes after crossover:\n",
      " ['11010', '1100', '11011', '10000']\n",
      "\n",
      "Phenotypes after crossover:\n",
      " [26, 12, 27, 16]\n"
     ]
    }
   ],
   "source": [
    "head_genes = []\n",
    "tail_genes = []\n",
    "offspring_list = [] #list of list of genes\n",
    "parent_1 = True\n",
    "offspring_genotypes = [] #list of genotypes\n",
    "offspring_phenotypes = [] #list of phenotypes\n",
    "\n",
    "print(\"Head genes:\")\n",
    "for i in range(len(list_of_genes)):\n",
    "    hg = list_of_genes[i][:crossover_point[i]]\n",
    "    print(hg)\n",
    "    head_genes.append(hg)\n",
    "\n",
    "print(\"Tail genes:\")\n",
    "for i in range(len(list_of_genes)):\n",
    "    tg = list_of_genes[i][crossover_point[i]:]\n",
    "    print(tg)\n",
    "    tail_genes.append(tg)\n",
    "\n",
    "#switch tails of parents in same pair and concatenate genes into offsprings\n",
    "for i in range(len(head_genes)):\n",
    "    if parent_1:\n",
    "        offspring_list.append(head_genes[i] + tail_genes[i+1])\n",
    "        parent_1 = False\n",
    "    else:\n",
    "        offspring_list.append(head_genes[i] + tail_genes[i-1])\n",
    "        parent_1 = True\n",
    "\n",
    "\n",
    "for os in offspring_list:\n",
    "    offspring_genotypes.append(''.join(os))\n",
    "    \n",
    "print(\"\\nGenotypes after crossover:\\n\", offspring_genotypes)\n",
    "\n",
    "#decoding to phenotypes\n",
    "for og in offspring_genotypes:\n",
    "    offspring_phenotypes.append(bin_to_dex(og))\n",
    "    \n",
    "print(\"\\nPhenotypes after crossover:\\n\", offspring_phenotypes)"
   ]
  },
  {
   "cell_type": "markdown",
   "metadata": {},
   "source": [
    "<span style=\"color:green\">Fitness</span>\n",
    "<br>\n",
    "Return fitness of offsprings"
   ]
  },
  {
   "cell_type": "code",
   "execution_count": 29,
   "metadata": {},
   "outputs": [
    {
     "name": "stdout",
     "output_type": "stream",
     "text": [
      "Fitness: [676, 144, 729, 256]\n",
      "Sum: 1805\n",
      "Avg: 452\n",
      "Max: 729\n"
     ]
    }
   ],
   "source": [
    "fitness_offspring = fitness(offspring_phenotypes)\n",
    "\n",
    "fitness_sum, fitness_avg, fitness_max = sum_avg_max(fitness_offspring)\n",
    "print(\"Sum:\", fitness_sum)\n",
    "print(\"Avg:\", int(math.ceil(fitness_avg)))\n",
    "print(\"Max:\", fitness_max)"
   ]
  },
  {
   "cell_type": "markdown",
   "metadata": {},
   "source": [
    "<span style=\"color:green\">Mutation probability</span>\n",
    "<br>\n",
    "Only one gene should mutate (bit be flipped) per mutation."
   ]
  },
  {
   "cell_type": "code",
   "execution_count": 30,
   "metadata": {
    "collapsed": true
   },
   "outputs": [],
   "source": [
    "#function creates a list with values either 0 or 1. If value is 1 at a certain position, that position in chromosome is swapped.\n",
    "def mutate_gene_list(no_of_genes):\n",
    "    #mutation rate is usually 1/number_of_genes\n",
    "    mutation_rate = 1./no_of_genes\n",
    "    \n",
    "    swap_gene_yes_no = list([0,1]) #possible values 0-do not swap, 1-swap gene\n",
    "    p_list = list([1-mutation_rate, mutation_rate]) #probability list for the 0 or 1 to happen\n",
    "    \n",
    "    print(\"Mutation rate (1/number of genes):\", mutation_rate)\n",
    "    \n",
    "    mutation_probability = [] #list for values which determine whether or not a gene will be swapped.\n",
    "    mutation_count = 0 #count number of mutations to be applied\n",
    "    index_of_mutation = -1\n",
    "    \n",
    "    for i in range(no_of_genes):\n",
    "        #check if we can still mutate a bit (meaning none of the positions have value 1 in the mutation probability)\n",
    "        if mutation_count == 0: \n",
    "            mute = np.random.choice(np.array(swap_gene_yes_no), p=p_list)\n",
    "        else:\n",
    "            mute = 0\n",
    "        mutation_probability.append(mute)\n",
    "        #if random function returns 1 then rest of the places in mutation_probability are 0\n",
    "        if mute == 1:\n",
    "            mutation_count += 1\n",
    "        \n",
    "    print(\"Mutation probability:\", mutation_probability)\n",
    "    \n",
    "    if 1 in mutation_probability:\n",
    "         index_of_mutation = mutation_probability.index(1)\n",
    "    \n",
    "    print(\"Gene index to mutate (if -1 then none):\", index_of_mutation)\n",
    "    return mutation_probability, index_of_mutation"
   ]
  },
  {
   "cell_type": "markdown",
   "metadata": {},
   "source": [
    "<span style=\"color:green\">Mutation</span>\n",
    "<br>\n",
    "Mutation on offsprings which are the result of one-point crossover"
   ]
  },
  {
   "cell_type": "code",
   "execution_count": 32,
   "metadata": {},
   "outputs": [
    {
     "name": "stdout",
     "output_type": "stream",
     "text": [
      "Mutation rate (1/number of genes): 0.2\n",
      "Mutation probability: [0, 0, 0, 0, 0]\n",
      "Gene index to mutate (if -1 then none): -1\n",
      "Mutation rate (1/number of genes): 0.2\n",
      "Mutation probability: [0, 0, 1, 0, 0]\n",
      "Gene index to mutate (if -1 then none): 2\n",
      "0->1\n",
      "Mutation rate (1/number of genes): 0.2\n",
      "Mutation probability: [0, 0, 0, 1, 0]\n",
      "Gene index to mutate (if -1 then none): 3\n",
      "1->0\n",
      "Mutation rate (1/number of genes): 0.2\n",
      "Mutation probability: [0, 0, 0, 0, 0]\n",
      "Gene index to mutate (if -1 then none): -1\n"
     ]
    }
   ],
   "source": [
    "#swap gene - 1->0 or 0->1\n",
    "def swap_gene(gene):\n",
    "    if gene == \"0\":\n",
    "        print(\"0->1\")\n",
    "        return 1\n",
    "    else:\n",
    "    #elif gene == \"1\": \n",
    "        print(\"1->0\")\n",
    "        return 0\n",
    "\n",
    "genotype_after_mutation = []\n",
    "        \n",
    "for os in offspring_list:\n",
    "    l, i = mutate_gene_list(number_of_genes)\n",
    "    os_np = np.array(os)\n",
    "    if i != -1:\n",
    "        os_np[i] = swap_gene(os_np[i])\n",
    "    #create a bit-string out of list of genes\n",
    "    genotype = ''.join(os_np)\n",
    "    genotype_after_mutation.append(genotype)"
   ]
  },
  {
   "cell_type": "code",
   "execution_count": 36,
   "metadata": {},
   "outputs": [
    {
     "name": "stdout",
     "output_type": "stream",
     "text": [
      "Offspring after mutation in genotype form: ['11010', '1110', '11001', '10000']\n",
      "Offspring after mutation in phenotype form: [26, 14, 25, 16]\n"
     ]
    }
   ],
   "source": [
    "print(\"Offspring after mutation in genotype form:\", genotype_after_mutation)\n",
    "phenotype_after_xover_mutation =  list(map(lambda x: bin_to_dex(x), genotype_after_mutation))\n",
    "print(\"Offspring after mutation in phenotype form:\",phenotype_after_xover_mutation)"
   ]
  },
  {
   "cell_type": "markdown",
   "metadata": {},
   "source": [
    "<span style=\"color:green\">Fitness values</span>\n",
    "<br>\n",
    "Fitness values of offsprings after one-point crossover and mutation"
   ]
  },
  {
   "cell_type": "code",
   "execution_count": 37,
   "metadata": {},
   "outputs": [
    {
     "name": "stdout",
     "output_type": "stream",
     "text": [
      "Fitness: [676, 196, 625, 256]\n"
     ]
    }
   ],
   "source": [
    "final_fitness_values = fitness(phenotype_after_xover_mutation)\n",
    "\n",
    "#print fitness_values\n",
    "\n",
    "final_fitness_sum, final_fitness_avg, final_fitness_max = sum_avg_max(final_fitness_values)"
   ]
  },
  {
   "cell_type": "markdown",
   "metadata": {},
   "source": [
    "<span style=\"color:green\">Interpretation of results</span>"
   ]
  },
  {
   "cell_type": "code",
   "execution_count": 38,
   "metadata": {},
   "outputs": [
    {
     "name": "stdout",
     "output_type": "stream",
     "text": [
      "Initial population:\n",
      "\t [13, 24, 8, 19]\n",
      "Fitness:\n",
      "\t [169, 576, 64, 361]\n",
      "Sum: 1170\n",
      "Avg: 293\n",
      "Max: 576\n",
      "-------------------\n",
      "Final offspring: \n",
      "\t [26, 14, 25, 16]\n",
      "Fitness:\n",
      "\t [676, 196, 625, 256]\n",
      "Sum: 1753\n",
      "Avg: 439\n",
      "Max: 676\n"
     ]
    }
   ],
   "source": [
    "print(\"Initial population:\\n\\t\", phenotypes)\n",
    "print(\"Fitness:\\n\\t\", init_pop_fitness_values)\n",
    "print(\"Sum:\", init_pop_fitness_sum)\n",
    "print(\"Avg:\", int(math.ceil(init_pop_fitness_avg)))\n",
    "print(\"Max:\", init_pop_fitness_max)\n",
    "\n",
    "print(\"-------------------\")\n",
    "\n",
    "print(\"Final offspring: \\n\\t\", phenotype_after_xover_mutation)\n",
    "print(\"Fitness:\\n\\t\", final_fitness_values)\n",
    "print(\"Sum:\", final_fitness_sum)\n",
    "print(\"Avg:\", int(math.ceil(final_fitness_avg)))\n",
    "print(\"Max:\", final_fitness_max)"
   ]
  },
  {
   "cell_type": "code",
   "execution_count": 44,
   "metadata": {},
   "outputs": [
    {
     "data": {
      "image/png": "[encoded data removed]",
      "text/plain": [
       "<matplotlib.figure.Figure at 0x176165fd0b8>"
      ]
     },
     "metadata": {},
     "output_type": "display_data"
    }
   ],
   "source": [
    "width = 0.35\n",
    "N = 3\n",
    "ind = np.arange(N)  # the x locations for the groups\n",
    "fig, ax = plt.subplots()\n",
    "rects1 = ax.bar(ind, [init_pop_fitness_sum, int(math.ceil(init_pop_fitness_avg)), init_pop_fitness_max], width=width, color='r')\n",
    "rects2 = ax.bar(ind + width, [final_fitness_sum, int(math.ceil(final_fitness_avg)), final_fitness_max], width=width, color='g')\n",
    "ax.set_title(\"Graph shows fitness sum, fitness average and fitness max\")\n",
    "ax.legend((rects1[0], rects2[0]), ('Initial', 'Final'))\n",
    "ax.set_xticklabels(('', '', ''))\n",
    "plt.show()"
   ]
  }
 ],
 "metadata": {
  "kernelspec": {
   "display_name": "Python 3",
   "language": "python",
   "name": "python3"
  },
  "language_info": {
   "codemirror_mode": {
    "name": "ipython",
    "version": 3
   },
   "file_extension": ".py",
   "mimetype": "text/x-python",
   "name": "python",
   "nbconvert_exporter": "python",
   "pygments_lexer": "ipython3",
   "version": "3.6.3"
  }
 },
 "nbformat": 4,
 "nbformat_minor": 2
}
