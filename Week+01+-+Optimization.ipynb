{
 "cells": [
  {
   "cell_type": "markdown",
   "metadata": {},
   "source": [
    "<h2>1.a Derivatives</h2>"
   ]
  },
  {
   "cell_type": "markdown",
   "metadata": {
    "collapsed": true
   },
   "source": [
    "<h3>Simple search algorithms</h3>\n",
    "f(x) = -x<sup>4</sup> + 2x<sup>3</sup> + 2x<sup>2</sup> - x\n",
    "<h3>Derivative</h3>\n",
    "f<sup>'</sup>(x) = -4x<sup>3</sup> + 6x<sup>2</sup> + 4x - 1\n"
   ]
  },
  {
   "cell_type": "markdown",
   "metadata": {},
   "source": [
    "<h2>1.b Plotting</h2>"
   ]
  },
  {
   "cell_type": "code",
   "execution_count": 2,
   "metadata": {},
   "outputs": [
    {
     "data": {
      "text/plain": [
       "[<matplotlib.lines.Line2D at 0x7ff536865810>]"
      ]
     },
     "execution_count": 2,
     "metadata": {},
     "output_type": "execute_result"
    },
    {
     "data": {
      "image/png": "[encoded data removed]",
      "text/plain": [
       "<matplotlib.figure.Figure at 0x7ff536dc1bd0>"
      ]
     },
     "metadata": {},
     "output_type": "display_data"
    }
   ],
   "source": [
    "import matplotlib.pyplot as plt\n",
    "import numpy as np\n",
    "import random\n",
    "%matplotlib inline\n",
    "\n",
    "x = np.arange(-2, 3, 0.1)\n",
    "y = -x**4 + 2*x**3 + 2*x**2 - x\n",
    "\n",
    "plt.plot(x,y)"
   ]
  },
  {
   "cell_type": "markdown",
   "metadata": {},
   "source": [
    "<h2>1.c Gradient Ascent</h2>\n",
    "The algorithm takes a random starting point in the interval between -2.0 and 3.0. The default step is 0.1.\n",
    "The first step is checking left and right by taking one step in each direction. Since we are maximizing, we choose the direction where x returns a higher y.\n",
    "The first step is the max step. If the next step is bigger than the max step, we continue walking up and switching max step with the current step. As soon as the next step is smaller than max step it means we are descending. The search is over here and the last step is the (local) maximum.\n"
   ]
  },
  {
   "cell_type": "code",
   "execution_count": 22,
   "metadata": {},
   "outputs": [
    {
     "name": "stdout",
     "output_type": "stream",
     "text": [
      "Random starting point: ( 2.7 , -1.9  )\n",
      "Number of steps: 8\n",
      "Steps: [(2.7, -1.9), (2.6, 0.37), (2.5, 2.19), (2.4, 3.59), (2.3, 4.63), (2.2, 5.35), (2.1, 5.79), (2.0, 6.0), (1.9, 6.01)]\n",
      "\n",
      "Local maximum: 1.9 6.01\n"
     ]
    },
    {
     "data": {
      "text/plain": [
       "[<matplotlib.lines.Line2D at 0x7ff5357c1fd0>,\n",
       " <matplotlib.lines.Line2D at 0x7ff5357cf290>,\n",
       " <matplotlib.lines.Line2D at 0x7ff5357cf910>,\n",
       " <matplotlib.lines.Line2D at 0x7ff5357cff10>]"
      ]
     },
     "execution_count": 22,
     "metadata": {},
     "output_type": "execute_result"
    },
    {
     "data": {
      "image/png": "[encoded data removed]",
      "text/plain": [
       "<matplotlib.figure.Figure at 0x7ff5360c4990>"
      ]
     },
     "metadata": {},
     "output_type": "display_data"
    }
   ],
   "source": [
    "x_list = []\n",
    "y_list = []\n",
    "\n",
    "def funk(x):\n",
    "    return round(-x**4 + 2*x**3 + 2*x**2 - x, 2)\n",
    "\n",
    "def append_to_list(x, y):\n",
    "    x_list.append(x)\n",
    "    y_list.append(y)\n",
    "    \n",
    "step = 0.1\n",
    "\n",
    "starting_x = round(float(random.randrange(-20, 33, step*10))/10, 1) #random point is picked\n",
    "starting_y = funk(starting_x)\n",
    "append_to_list(starting_x, starting_y)\n",
    "print \"Random starting point: (\", starting_x, \",\", starting_y, \" )\"\n",
    "\n",
    "#check one step left and one step right\n",
    "left_x, right_x = starting_x - step, starting_x + step\n",
    "left_y, right_y = funk(left_x), funk(right_x)\n",
    "#print \"Left step: \", left_x, left_y\n",
    "#print \"Right step: \", right_x, right_y\n",
    "\n",
    "#if the initial value is already bigger than steps left or right it is the local maximum.\n",
    "if(starting_y >= max(left_y, right_y)):\n",
    "    print(\"MAX is the initial value!!\")\n",
    "    print(zip(x_list, y_list))\n",
    "else:\n",
    "    #first step in both directions determines in which direction we will go\n",
    "    if left_y > right_y:\n",
    "        dir = -1\n",
    "    elif left_y < right_y:\n",
    "        dir = 1\n",
    "    else:\n",
    "        print(\"Not able to find local maximum because both steps are equal - assume maximum or minimum.\")\n",
    "\n",
    "    #now we have the direction and we are stepping until direction_y_next_step is bigger than direction_y\n",
    "    max_x = starting_x\n",
    "    max_y = starting_y\n",
    "\n",
    "    step_x = round(starting_x  + dir*step, 1)\n",
    "    step_y = funk(step_x)\n",
    "\n",
    "    i = 0 #step_counter\n",
    "    while (step_y > max_y):\n",
    "        append_to_list(step_x, step_y)\n",
    "        max_y = step_y\n",
    "        step_x = round(step_x + dir*step, 1)\n",
    "        step_y = funk(step_x)\n",
    "        i += 1\n",
    "\n",
    "local_max_x, local_max_y = x_list[-1], y_list[-1]        \n",
    "        \n",
    "print \"Number of steps:\", i\n",
    "print \"Steps:\", zip(x_list, y_list)\n",
    "print \"\\nLocal maximum:\", local_max_x, local_max_y\n",
    "\n",
    "plt.plot(x, y, \"#9999FF\", starting_x, starting_y, \"ro\", x_list, y_list, \"rx\", local_max_x, local_max_y, \"go\")"
   ]
  },
  {
   "cell_type": "markdown",
   "metadata": {},
   "source": [
    "The choice of starting point determines whether the algorithm finds global maximum or \"only\" local maximum.<br>\n",
    "Finding maximum or approximation of it depends on the step size. A step size too big would return an approximate maximum while a small step would return a more precise maximum.\n",
    "\n",
    "A starting point where the algorithm would not be able to find a local maximum might happen if the step size is too small and the algorithm, when checking for direction, establishes that neither direction is a step up (ascent). This can be understood, by the algorithm, that we are on a flat area, either at the minimum or maximum."
   ]
  },
  {
   "cell_type": "markdown",
   "metadata": {},
   "source": [
    "<h2>1.d Exhaustive Search</h2>\n",
    "Exhaustive search checks every single solution. It always finds the global maximum but at a high cost."
   ]
  },
  {
   "cell_type": "code",
   "execution_count": 23,
   "metadata": {
    "scrolled": false
   },
   "outputs": [
    {
     "name": "stdout",
     "output_type": "stream",
     "text": [
      "(2.0, 6.0)\n",
      "Time: 0.757932662964 ms\n"
     ]
    },
    {
     "data": {
      "text/plain": [
       "[<matplotlib.lines.Line2D at 0x7ff535703e90>,\n",
       " <matplotlib.lines.Line2D at 0x7ff535711150>,\n",
       " <matplotlib.lines.Line2D at 0x7ff5357117d0>]"
      ]
     },
     "execution_count": 23,
     "metadata": {},
     "output_type": "execute_result"
    },
    {
     "data": {
      "image/png": "[encoded data removed]",
      "text/plain": [
       "<matplotlib.figure.Figure at 0x7ff53632c350>"
      ]
     },
     "metadata": {},
     "output_type": "display_data"
    }
   ],
   "source": [
    "#exhaustive search\n",
    "import time\n",
    "step = 0.5\n",
    "start = time.time()\n",
    "x_es = np.arange(-2, 3, step)\n",
    "y_es = -1*x_es**4 + 2*x_es**3 + 2*x_es**2 - x_es\n",
    "list = zip(x_es, y_es)\n",
    "y_max = -25\n",
    "x_max = -2\n",
    "for x_, y_ in list:\n",
    "    if(y_ > y_max):\n",
    "        y_max = y_\n",
    "        x_max = x_\n",
    "print (x_max, y_max)\n",
    "end = time.time()\n",
    "print \"Time:\", (end - start)*1000, \"ms\"\n",
    "plt.plot(x,y, \"y\", x_es, y_es, \"bx\", x_max, y_max, \"ro\")"
   ]
  },
  {
   "cell_type": "markdown",
   "metadata": {},
   "source": [
    "<h2>1.e Greedy Search and Hill </h2>"
   ]
  },
  {
   "cell_type": "markdown",
   "metadata": {},
   "source": [
    "<h2>1.f Possible improvements</h2>\n",
    "<b>Exploration</b> - trying out new solutions in the search space - for example exhaustive search\n",
    "\n",
    "<b>Exploitation</b> - trying out local variations of the current best solution - for example hill climbing\n",
    "\n",
    "Combination of both is ideal.\n",
    "\n",
    "Perhaps one improvement of gradient ascent, greedy search and hill climbing (exploitation algorithms) to use exploration at the beginning to improve the first, random, step."
   ]
  },
  {
   "cell_type": "markdown",
   "metadata": {},
   "source": [
    "<h2>1.g Exhaustive search vs. simulated annealing</h2>\n",
    "\n",
    "<b>Exhaustive search:</b>\n",
    "<ul>\n",
    "  <li>Tries every solution</li>\n",
    "  <li>Guaranteed to find global optimum</li>\n",
    "  <li>Impractical for problems with a lot of data</li>\n",
    "</ul>\n",
    "<b>Simulated annealing:</b>\n",
    "<ul>\n",
    "  <li>Stohastic method based (randomness)</li>\n",
    "</ul>\n",
    "\n",
    "Since simulated annealing is based on randomness which means the end result is an approximate solution. In the case of algorithm in 1.d, since we have a small dataset and the compute time is not high, exhaustive search would be the best option. Maybe not the most efficient in all cases, but the cost is minimal. And the global optimum (maximum) is guaranteed."
   ]
  }
 ],
 "metadata": {
  "kernelspec": {
   "display_name": "Python 2",
   "language": "python",
   "name": "python2"
  },
  "language_info": {
   "codemirror_mode": {
    "name": "ipython",
    "version": 2
   },
   "file_extension": ".py",
   "mimetype": "text/x-python",
   "name": "python",
   "nbconvert_exporter": "python",
   "pygments_lexer": "ipython2",
   "version": "2.7.6"
  }
 },
 "nbformat": 4,
 "nbformat_minor": 2
}
