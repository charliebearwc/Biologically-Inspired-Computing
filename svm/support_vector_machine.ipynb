{
 "cells": [
  {
   "cell_type": "markdown",
   "metadata": {},
   "source": [
    "<h1>Support Vector Machine (SVM)</h1>\n",
    "<br>\n",
    "Training data is taken from scikit learn dataset. It is called Iris.\n",
    "<br>\n",
    "Tl;dr: run whole notebook and youll get a plot with training data and test data."
   ]
  },
  {
   "cell_type": "markdown",
   "metadata": {},
   "source": [
    "Support Vector Machine (SVM) is one of the most popular algorithms in machine learning. It delivers impressive classification on reasonably sized datasets.\n",
    "<br>\n",
    "On extremely large datasets the algorithm becomes computationally very expensive."
   ]
  },
  {
   "cell_type": "code",
   "execution_count": 1,
   "metadata": {},
   "outputs": [],
   "source": [
    "from sklearn import datasets, svm\n",
    "import numpy as np\n",
    "import matplotlib.pyplot as plt"
   ]
  },
  {
   "cell_type": "code",
   "execution_count": 2,
   "metadata": {},
   "outputs": [],
   "source": [
    "class support_vector_machine:\n",
    "    def __init__(self):\n",
    "        pass\n",
    "    \n",
    "    # prepare the training data\n",
    "    def prepare_data(self):\n",
    "        iris = datasets.load_iris()\n",
    "        X = iris.data[:, :2]  # we only take the first two features: sepal length, sepal width\n",
    "        self.val_x, self.val_y = self.dataset_to_col(X)\n",
    "        target = iris.target\n",
    "        return X, target\n",
    "\n",
    "    # get color based on class (indices from 0 to 2)\n",
    "    def get_color(self, index):\n",
    "        colors = [\"r\", \"g\", \"b\"]  # 3 colors, one for each class\n",
    "        return colors[index]\n",
    "\n",
    "    # parse dataset to columns x and y\n",
    "    def dataset_to_col(self, dataset):\n",
    "        return dataset[:,0], dataset[:,1]\n",
    "\n",
    "    # train\n",
    "    def fit(self, X, target):\n",
    "        clf = svm.SVC()\n",
    "        clf.fit(X, target)\n",
    "        return clf\n",
    "\n",
    "    # predict class on new values\n",
    "    def predict(self, clf, data):\n",
    "        y_pred = clf.predict(data)\n",
    "        return y_pred\n",
    "\n",
    "    # visualize data\n",
    "    def plot_train_data(self, data, target):\n",
    "        target_color = [self.get_color(x) for x in target] #convert classes to colors\n",
    "        val_x, val_y = self.dataset_to_col(data)\n",
    "        plt.scatter(val_x, val_y, color=target_color) #plot the input data\n",
    "\n",
    "    # generate test data\n",
    "    def generate_test_data(self, n_data):\n",
    "        max_x, min_x = self.val_x.max(), self.val_x.min()\n",
    "        max_y, min_y = self.val_y.max(), self.val_y.min()\n",
    "        test_val_x = np.random.uniform(low=min_x, high=max_x, size=n_data)\n",
    "        test_val_y = np.random.uniform(low=min_y, high=max_y, size=n_data)\n",
    "        test_val = np.array(list(zip(test_val_x, test_val_y)))\n",
    "        return test_val\n",
    "\n",
    "    # visualize test data with class\n",
    "    def plot_test_data(self, test_data, y_pred):\n",
    "        y_pred_color = [self.get_color(x) for x in y_pred]\n",
    "        plt.scatter(test_data[:, 0], test_data[:, 1], color=y_pred_color, marker=\"*\", s=150)\n",
    "\n",
    "    ## methods copied from scikit-learn and changed to serve the purpose\n",
    "\n",
    "    def make_meshgrid(self, x, y, h=.02):\n",
    "        x_min, x_max = x.min() - 0.5, x.max() + 0.5\n",
    "        y_min, y_max = y.min() - 0.5, y.max() + 0.5\n",
    "        xx, yy = np.meshgrid(np.arange(x_min, x_max, h),\n",
    "                             np.arange(y_min, y_max, h))\n",
    "        return xx, yy\n",
    "\n",
    "    def plot_contours(self, X, clf):\n",
    "        x, y = self.dataset_to_col(X)\n",
    "        xx, yy = self.make_meshgrid(x, y) # meshgrid: https://docs.scipy.org/doc/numpy-1.13.0/reference/generated/numpy.meshgrid.html\n",
    "        Z = clf.predict(np.c_[xx.ravel(), yy.ravel()]) # c_: https://docs.scipy.org/doc/numpy-1.13.0/reference/generated/numpy.c_.html\n",
    "        Z = Z.reshape(xx.shape)\n",
    "        plt.contourf(xx, yy, Z,15, colors=[\"#FF4D4D\", \"#0080ff\", \"#7FFA7F\", \"#000000\"]) # lighter colors for contourf\n"
   ]
  },
  {
   "cell_type": "code",
   "execution_count": 3,
   "metadata": {},
   "outputs": [],
   "source": [
    "n_test_data = 3 # number of test datapoints"
   ]
  },
  {
   "cell_type": "code",
   "execution_count": 4,
   "metadata": {},
   "outputs": [
    {
     "name": "stdout",
     "output_type": "stream",
     "text": [
      "Test data:\n",
      " [[ 6.67421933  4.25708503]\n",
      " [ 5.26939835  3.89519043]\n",
      " [ 5.84429984  3.25179228]]\n"
     ]
    }
   ],
   "source": [
    "s = support_vector_machine() # create an instance of a class\n",
    "X, target = s.prepare_data()\n",
    "\n",
    "clf = s.fit(X=X, target=target) # train the data, create a classifier\n",
    "test_data = s.generate_test_data(n_data=n_test_data) # generate test data\n",
    "print(\"Test data:\\n\", test_data)\n",
    "y_pred = s.predict(clf=clf, data=test_data)"
   ]
  },
  {
   "cell_type": "code",
   "execution_count": 5,
   "metadata": {},
   "outputs": [
    {
     "data": {
      "image/png": "[encoded data removed]",
      "text/plain": [
       "<matplotlib.figure.Figure at 0x23e0fa679b0>"
      ]
     },
     "metadata": {},
     "output_type": "display_data"
    }
   ],
   "source": [
    "s.plot_contours(X=X, clf=clf)\n",
    "s.plot_train_data(data=X, target=target)\n",
    "s.plot_test_data(test_data=test_data, y_pred=y_pred)"
   ]
  }
 ],
 "metadata": {
  "kernelspec": {
   "display_name": "Python 3",
   "language": "python",
   "name": "python3"
  },
  "language_info": {
   "codemirror_mode": {
    "name": "ipython",
    "version": 3
   },
   "file_extension": ".py",
   "mimetype": "text/x-python",
   "name": "python",
   "nbconvert_exporter": "python",
   "pygments_lexer": "ipython3",
   "version": "3.5.4"
  }
 },
 "nbformat": 4,
 "nbformat_minor": 2
}
